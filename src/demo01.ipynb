{
 "cells": [
  {
   "cell_type": "code",
   "execution_count": 1,
   "id": "a1d831be",
   "metadata": {},
   "outputs": [],
   "source": [
    "import cv2\n",
    "import imutils\n",
    "import matplotlib.pyplot as plt\n",
    "import numpy as np\n",
    "%matplotlib inline"
   ]
  },
  {
   "cell_type": "code",
   "execution_count": 2,
   "id": "1138478c",
   "metadata": {},
   "outputs": [
    {
     "data": {
      "text/plain": [
       "<matplotlib.image.AxesImage at 0x7fc2a97e2c10>"
      ]
     },
     "execution_count": 2,
     "metadata": {},
     "output_type": "execute_result"
    },
    {
     "data": {
      "image/png": "[encoded data removed]",
      "text/plain": [
       "<Figure size 432x288 with 1 Axes>"
      ]
     },
     "metadata": {
      "needs_background": "light"
     },
     "output_type": "display_data"
    }
   ],
   "source": [
    "template = cv2.imread('/Users/olearyd/Git/SnowCV/data/number_template.png')\n",
    "template = cv2.cvtColor(template, cv2.COLOR_BGR2GRAY)\n",
    "template = cv2.threshold(template, 30, 255, cv2.THRESH_BINARY)[1]\n",
    "template\n",
    "plt.imshow(template, cmap='gray')"
   ]
  },
  {
   "cell_type": "code",
   "execution_count": 3,
   "id": "ad59b7d2",
   "metadata": {},
   "outputs": [
    {
     "ename": "NameError",
     "evalue": "name 'contours' is not defined",
     "output_type": "error",
     "traceback": [
      "\u001b[0;31m---------------------------------------------------------------------------\u001b[0m",
      "\u001b[0;31mNameError\u001b[0m                                 Traceback (most recent call last)",
      "\u001b[0;32m<ipython-input-3-0fbfff9ebe9a>\u001b[0m in \u001b[0;36m<module>\u001b[0;34m\u001b[0m\n\u001b[1;32m      1\u001b[0m \u001b[0mtemplateCnts\u001b[0m \u001b[0;34m=\u001b[0m \u001b[0mcv2\u001b[0m\u001b[0;34m.\u001b[0m\u001b[0mfindContours\u001b[0m\u001b[0;34m(\u001b[0m\u001b[0mtemplate\u001b[0m\u001b[0;34m.\u001b[0m\u001b[0mcopy\u001b[0m\u001b[0;34m(\u001b[0m\u001b[0;34m)\u001b[0m\u001b[0;34m,\u001b[0m \u001b[0mcv2\u001b[0m\u001b[0;34m.\u001b[0m\u001b[0mRETR_EXTERNAL\u001b[0m\u001b[0;34m,\u001b[0m \u001b[0mcv2\u001b[0m\u001b[0;34m.\u001b[0m\u001b[0mCHAIN_APPROX_SIMPLE\u001b[0m\u001b[0;34m)\u001b[0m\u001b[0;34m\u001b[0m\u001b[0;34m\u001b[0m\u001b[0m\n\u001b[1;32m      2\u001b[0m \u001b[0mtemplateCnts\u001b[0m \u001b[0;34m=\u001b[0m \u001b[0mimutils\u001b[0m\u001b[0;34m.\u001b[0m\u001b[0mgrab_contours\u001b[0m\u001b[0;34m(\u001b[0m\u001b[0mtemplateCnts\u001b[0m\u001b[0;34m)\u001b[0m\u001b[0;34m\u001b[0m\u001b[0;34m\u001b[0m\u001b[0m\n\u001b[0;32m----> 3\u001b[0;31m \u001b[0mtemplateCnts\u001b[0m \u001b[0;34m=\u001b[0m \u001b[0mcontours\u001b[0m\u001b[0;34m.\u001b[0m\u001b[0msort_contours\u001b[0m\u001b[0;34m(\u001b[0m\u001b[0mtemplateCnts\u001b[0m\u001b[0;34m,\u001b[0m \u001b[0mmethod\u001b[0m\u001b[0;34m=\u001b[0m\u001b[0;34m\"left-to-right\"\u001b[0m\u001b[0;34m)\u001b[0m\u001b[0;34m[\u001b[0m\u001b[0;36m0\u001b[0m\u001b[0;34m]\u001b[0m\u001b[0;34m\u001b[0m\u001b[0;34m\u001b[0m\u001b[0m\n\u001b[0m\u001b[1;32m      4\u001b[0m \u001b[0mdigits\u001b[0m \u001b[0;34m=\u001b[0m \u001b[0;34m{\u001b[0m\u001b[0;34m}\u001b[0m\u001b[0;34m\u001b[0m\u001b[0;34m\u001b[0m\u001b[0m\n",
      "\u001b[0;31mNameError\u001b[0m: name 'contours' is not defined"
     ]
    }
   ],
   "source": [
    "templateCnts = cv2.findContours(template.copy(), cv2.RETR_EXTERNAL, cv2.CHAIN_APPROX_SIMPLE)\n",
    "templateCnts = imutils.grab_contours(templateCnts)\n",
    "templateCnts = contours.sort_contours(templateCnts, method=\"left-to-right\")[0]\n",
    "digits = {}"
   ]
  },
  {
   "cell_type": "code",
   "execution_count": null,
   "id": "cee4afe1",
   "metadata": {},
   "outputs": [],
   "source": [
    "ref = cv2.imread('/Users/olearyd/Git/SnowCV/data/NEON.D13.NIWO.DP1.00042_2020_01_10_101505.jpg')\n",
    "ref = cv2.cvtColor(ref, cv2.COLOR_BGR2GRAY)\n",
    "ref = cv2.threshold(ref, 30, 255, cv2.THRESH_BINARY)[1]\n",
    "ref"
   ]
  },
  {
   "cell_type": "code",
   "execution_count": null,
   "id": "e9c7e506",
   "metadata": {},
   "outputs": [],
   "source": [
    "ref.shape"
   ]
  },
  {
   "cell_type": "code",
   "execution_count": null,
   "id": "cd50c4b0",
   "metadata": {},
   "outputs": [],
   "source": [
    "ROI = ref[600:850,870:920]"
   ]
  },
  {
   "cell_type": "code",
   "execution_count": null,
   "id": "e2996fea",
   "metadata": {},
   "outputs": [],
   "source": [
    "plt.rcParams['figure.figsize'] = [5, 15]\n",
    "plt.imshow(ROI,cmap='gray')"
   ]
  },
  {
   "cell_type": "code",
   "execution_count": null,
   "id": "9cca1779",
   "metadata": {},
   "outputs": [],
   "source": [
    "## Plot image in external window\n",
    "cv2.imshow('image',ref)\n",
    "cv2.waitKey(0)\n",
    "cv2.destroyAllWindows()\n",
    "cv2.waitKey(1)"
   ]
  },
  {
   "cell_type": "code",
   "execution_count": null,
   "id": "40318e2b",
   "metadata": {},
   "outputs": [],
   "source": [
    "fifteen = ROI[190:200,8:19]\n",
    "x=fifteen"
   ]
  },
  {
   "cell_type": "code",
   "execution_count": null,
   "id": "dd60b0ff",
   "metadata": {},
   "outputs": [],
   "source": [
    "plt.imshow(fifteen,cmap='gray')"
   ]
  },
  {
   "cell_type": "code",
   "execution_count": null,
   "id": "d2996ac5",
   "metadata": {},
   "outputs": [],
   "source": [
    "x"
   ]
  },
  {
   "cell_type": "code",
   "execution_count": null,
   "id": "b59722bd",
   "metadata": {},
   "outputs": [],
   "source": [
    "scores = []\n",
    "\n",
    "result = cv2.matchTemplate\n",
    "\n",
    "result = cv2.matchTemplate(roi, digitROI,cv2.TM_CCOEFF)\n",
    "\n",
    "# for (digit, digitROI) in digits.items():\n",
    "# \t\t\t# apply correlation-based template matching, take the\n",
    "# \t\t\t# score, and update the scores list\n",
    "# \t\t\tresult = cv2.matchTemplate(roi, digitROI,\n",
    "# \t\t\t\tcv2.TM_CCOEFF)\n",
    "# \t\t\t(_, score, _, _) = cv2.minMaxLoc(result)\n",
    "# \t\t\tscores.append(score)\n",
    "#         # the classification for the digit ROI will be the reference\n",
    "# \t\t# digit name with the *largest* template matching score\n",
    "# \t\tgroupOutput.append(str(np.argmax(scores)))"
   ]
  },
  {
   "cell_type": "code",
   "execution_count": null,
   "id": "def0bfbe",
   "metadata": {},
   "outputs": [],
   "source": [
    "for c in digitCnts:\n",
    "\t\t# compute the bounding box of the individual digit, extract\n",
    "\t\t# the digit, and resize it to have the same fixed size as\n",
    "\t\t# the reference OCR-A images\n",
    "\t\troi = cv2.resize(roi, (57, 88))\n",
    "\t\t# initialize a list of template matching scores\t\n",
    "\t\tscores = []\n",
    "\t\t# loop over the reference digit name and digit ROI\n",
    "\t\tfor (digit, digitROI) in digits.items():\n",
    "\t\t\t# apply correlation-based template matching, take the\n",
    "\t\t\t# score, and update the scores list\n",
    "\t\t\tresult = cv2.matchTemplate(roi, digitROI,\n",
    "\t\t\t\tcv2.TM_CCOEFF)\n",
    "\t\t\t(_, score, _, _) = cv2.minMaxLoc(result)\n",
    "\t\t\tscores.append(score)\n",
    "        # the classification for the digit ROI will be the reference\n",
    "\t\t# digit name with the *largest* template matching score\n",
    "\t\tgroupOutput.append(str(np.argmax(scores)))"
   ]
  }
 ],
 "metadata": {
  "kernelspec": {
   "display_name": "Python 3",
   "language": "python",
   "name": "python3"
  },
  "language_info": {
   "codemirror_mode": {
    "name": "ipython",
    "version": 3
   },
   "file_extension": ".py",
   "mimetype": "text/x-python",
   "name": "python",
   "nbconvert_exporter": "python",
   "pygments_lexer": "ipython3",
   "version": "3.7.10"
  }
 },
 "nbformat": 4,
 "nbformat_minor": 5
}
