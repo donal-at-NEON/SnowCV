{
 "cells": [
  {
   "cell_type": "code",
   "execution_count": 91,
   "id": "a1d831be",
   "metadata": {},
   "outputs": [
    {
     "ename": "ModuleNotFoundError",
     "evalue": "No module named 'imutils'",
     "output_type": "error",
     "traceback": [
      "\u001b[0;31m---------------------------------------------------------------------------\u001b[0m",
      "\u001b[0;31mModuleNotFoundError\u001b[0m                       Traceback (most recent call last)",
      "\u001b[0;32m<ipython-input-91-85fbe171b500>\u001b[0m in \u001b[0;36m<module>\u001b[0;34m\u001b[0m\n\u001b[1;32m      1\u001b[0m \u001b[0;32mimport\u001b[0m \u001b[0mcv2\u001b[0m\u001b[0;34m\u001b[0m\u001b[0;34m\u001b[0m\u001b[0m\n\u001b[0;32m----> 2\u001b[0;31m \u001b[0;32mimport\u001b[0m \u001b[0mimutils\u001b[0m\u001b[0;34m\u001b[0m\u001b[0;34m\u001b[0m\u001b[0m\n\u001b[0m\u001b[1;32m      3\u001b[0m \u001b[0;32mimport\u001b[0m \u001b[0mmatplotlib\u001b[0m\u001b[0;34m.\u001b[0m\u001b[0mpyplot\u001b[0m \u001b[0;32mas\u001b[0m \u001b[0mplt\u001b[0m\u001b[0;34m\u001b[0m\u001b[0;34m\u001b[0m\u001b[0m\n\u001b[1;32m      4\u001b[0m \u001b[0;32mimport\u001b[0m \u001b[0mnumpy\u001b[0m \u001b[0;32mas\u001b[0m \u001b[0mnp\u001b[0m\u001b[0;34m\u001b[0m\u001b[0;34m\u001b[0m\u001b[0m\n\u001b[1;32m      5\u001b[0m \u001b[0mget_ipython\u001b[0m\u001b[0;34m(\u001b[0m\u001b[0;34m)\u001b[0m\u001b[0;34m.\u001b[0m\u001b[0mrun_line_magic\u001b[0m\u001b[0;34m(\u001b[0m\u001b[0;34m'matplotlib'\u001b[0m\u001b[0;34m,\u001b[0m \u001b[0;34m'inline'\u001b[0m\u001b[0;34m)\u001b[0m\u001b[0;34m\u001b[0m\u001b[0;34m\u001b[0m\u001b[0m\n",
      "\u001b[0;31mModuleNotFoundError\u001b[0m: No module named 'imutils'"
     ]
    }
   ],
   "source": [
    "import cv2\n",
    "import imutils\n",
    "import matplotlib.pyplot as plt\n",
    "import numpy as np\n",
    "%matplotlib inline"
   ]
  },
  {
   "cell_type": "code",
   "execution_count": 89,
   "id": "e80ef289",
   "metadata": {},
   "outputs": [
    {
     "data": {
      "text/plain": [
       "<matplotlib.image.AxesImage at 0x7fe0542a2610>"
      ]
     },
     "execution_count": 89,
     "metadata": {},
     "output_type": "execute_result"
    },
    {
     "data": {
      "image/png": "[encoded data removed]",
      "text/plain": [
       "<Figure size 360x1080 with 1 Axes>"
      ]
     },
     "metadata": {
      "needs_background": "light"
     },
     "output_type": "display_data"
    }
   ],
   "source": [
    "template = cv2.imread('/Users/olearyd/Git/SnowCV/data/number_template.png')\n",
    "template = cv2.cvtColor(template, cv2.COLOR_BGR2GRAY)\n",
    "template = cv2.threshold(template, 30, 255, cv2.THRESH_BINARY)[1]\n",
    "template\n",
    "plt.imshow(template, cmap='gray')"
   ]
  },
  {
   "cell_type": "code",
   "execution_count": 90,
   "id": "26095721",
   "metadata": {},
   "outputs": [
    {
     "ename": "NameError",
     "evalue": "name 'imutils' is not defined",
     "output_type": "error",
     "traceback": [
      "\u001b[0;31m---------------------------------------------------------------------------\u001b[0m",
      "\u001b[0;31mNameError\u001b[0m                                 Traceback (most recent call last)",
      "\u001b[0;32m<ipython-input-90-0fbfff9ebe9a>\u001b[0m in \u001b[0;36m<module>\u001b[0;34m\u001b[0m\n\u001b[1;32m      1\u001b[0m \u001b[0mtemplateCnts\u001b[0m \u001b[0;34m=\u001b[0m \u001b[0mcv2\u001b[0m\u001b[0;34m.\u001b[0m\u001b[0mfindContours\u001b[0m\u001b[0;34m(\u001b[0m\u001b[0mtemplate\u001b[0m\u001b[0;34m.\u001b[0m\u001b[0mcopy\u001b[0m\u001b[0;34m(\u001b[0m\u001b[0;34m)\u001b[0m\u001b[0;34m,\u001b[0m \u001b[0mcv2\u001b[0m\u001b[0;34m.\u001b[0m\u001b[0mRETR_EXTERNAL\u001b[0m\u001b[0;34m,\u001b[0m \u001b[0mcv2\u001b[0m\u001b[0;34m.\u001b[0m\u001b[0mCHAIN_APPROX_SIMPLE\u001b[0m\u001b[0;34m)\u001b[0m\u001b[0;34m\u001b[0m\u001b[0;34m\u001b[0m\u001b[0m\n\u001b[0;32m----> 2\u001b[0;31m \u001b[0mtemplateCnts\u001b[0m \u001b[0;34m=\u001b[0m \u001b[0mimutils\u001b[0m\u001b[0;34m.\u001b[0m\u001b[0mgrab_contours\u001b[0m\u001b[0;34m(\u001b[0m\u001b[0mtemplateCnts\u001b[0m\u001b[0;34m)\u001b[0m\u001b[0;34m\u001b[0m\u001b[0;34m\u001b[0m\u001b[0m\n\u001b[0m\u001b[1;32m      3\u001b[0m \u001b[0mtemplateCnts\u001b[0m \u001b[0;34m=\u001b[0m \u001b[0mcontours\u001b[0m\u001b[0;34m.\u001b[0m\u001b[0msort_contours\u001b[0m\u001b[0;34m(\u001b[0m\u001b[0mtemplateCnts\u001b[0m\u001b[0;34m,\u001b[0m \u001b[0mmethod\u001b[0m\u001b[0;34m=\u001b[0m\u001b[0;34m\"left-to-right\"\u001b[0m\u001b[0;34m)\u001b[0m\u001b[0;34m[\u001b[0m\u001b[0;36m0\u001b[0m\u001b[0;34m]\u001b[0m\u001b[0;34m\u001b[0m\u001b[0;34m\u001b[0m\u001b[0m\n\u001b[1;32m      4\u001b[0m \u001b[0mdigits\u001b[0m \u001b[0;34m=\u001b[0m \u001b[0;34m{\u001b[0m\u001b[0;34m}\u001b[0m\u001b[0;34m\u001b[0m\u001b[0;34m\u001b[0m\u001b[0m\n",
      "\u001b[0;31mNameError\u001b[0m: name 'imutils' is not defined"
     ]
    }
   ],
   "source": [
    "templateCnts = cv2.findContours(template.copy(), cv2.RETR_EXTERNAL, cv2.CHAIN_APPROX_SIMPLE)\n",
    "templateCnts = imutils.grab_contours(templateCnts)\n",
    "templateCnts = contours.sort_contours(templateCnts, method=\"left-to-right\")[0]\n",
    "digits = {}"
   ]
  },
  {
   "cell_type": "code",
   "execution_count": 71,
   "id": "cee4afe1",
   "metadata": {},
   "outputs": [
    {
     "data": {
      "text/plain": [
       "array([[255, 255, 255, ..., 255, 255, 255],\n",
       "       [255, 255, 255, ..., 255, 255, 255],\n",
       "       [255, 255, 255, ..., 255, 255, 255],\n",
       "       ...,\n",
       "       [255, 255, 255, ..., 255, 255, 255],\n",
       "       [255, 255, 255, ..., 255, 255, 255],\n",
       "       [255, 255, 255, ..., 255, 255, 255]], dtype=uint8)"
      ]
     },
     "execution_count": 71,
     "metadata": {},
     "output_type": "execute_result"
    }
   ],
   "source": [
    "ref = cv2.imread('/Users/olearyd/Git/SnowCV/data/NEON.D13.NIWO.DP1.00042_2020_01_10_101505.jpg')\n",
    "ref = cv2.cvtColor(ref, cv2.COLOR_BGR2GRAY)\n",
    "ref = cv2.threshold(ref, 30, 255, cv2.THRESH_BINARY)[1]\n",
    "ref"
   ]
  },
  {
   "cell_type": "code",
   "execution_count": 72,
   "id": "5ff67e0a",
   "metadata": {},
   "outputs": [
    {
     "data": {
      "text/plain": [
       "(960, 1296)"
      ]
     },
     "execution_count": 72,
     "metadata": {},
     "output_type": "execute_result"
    }
   ],
   "source": [
    "ref.shape"
   ]
  },
  {
   "cell_type": "code",
   "execution_count": 73,
   "id": "47b1147a",
   "metadata": {},
   "outputs": [],
   "source": [
    "ROI = ref[600:850,870:920]"
   ]
  },
  {
   "cell_type": "code",
   "execution_count": 74,
   "id": "984602b4",
   "metadata": {},
   "outputs": [
    {
     "data": {
      "text/plain": [
       "<matplotlib.image.AxesImage at 0x7fe071af3bd0>"
      ]
     },
     "execution_count": 74,
     "metadata": {},
     "output_type": "execute_result"
    },
    {
     "data": {
      "image/png": "[encoded data removed]",
      "text/plain": [
       "<Figure size 360x1080 with 1 Axes>"
      ]
     },
     "metadata": {
      "needs_background": "light"
     },
     "output_type": "display_data"
    }
   ],
   "source": [
    "plt.rcParams['figure.figsize'] = [5, 15]\n",
    "plt.imshow(ROI,cmap='gray')"
   ]
  },
  {
   "cell_type": "code",
   "execution_count": 75,
   "id": "9cca1779",
   "metadata": {},
   "outputs": [
    {
     "data": {
      "text/plain": [
       "-1"
      ]
     },
     "execution_count": 75,
     "metadata": {},
     "output_type": "execute_result"
    }
   ],
   "source": [
    "## Plot image in external window\n",
    "cv2.imshow('image',ref)\n",
    "cv2.waitKey(0)\n",
    "cv2.destroyAllWindows()\n",
    "cv2.waitKey(1)"
   ]
  },
  {
   "cell_type": "code",
   "execution_count": 83,
   "id": "40318e2b",
   "metadata": {},
   "outputs": [],
   "source": [
    "fifteen = ROI[190:200,8:19]\n",
    "x=fifteen"
   ]
  },
  {
   "cell_type": "code",
   "execution_count": 84,
   "id": "dd60b0ff",
   "metadata": {},
   "outputs": [
    {
     "data": {
      "text/plain": [
       "<matplotlib.image.AxesImage at 0x7fe0538b6a90>"
      ]
     },
     "execution_count": 84,
     "metadata": {},
     "output_type": "execute_result"
    },
    {
     "data": {
      "image/png": "[encoded data removed]",
      "text/plain": [
       "<Figure size 360x1080 with 1 Axes>"
      ]
     },
     "metadata": {
      "needs_background": "light"
     },
     "output_type": "display_data"
    }
   ],
   "source": [
    "plt.imshow(fifteen,cmap='gray')"
   ]
  },
  {
   "cell_type": "code",
   "execution_count": 86,
   "id": "1ad27d0d",
   "metadata": {},
   "outputs": [
    {
     "data": {
      "text/plain": [
       "array([[255, 255, 255, 255, 255, 255, 255, 255, 255, 255, 255],\n",
       "       [255, 255, 255, 255, 255, 255, 255, 255, 255, 255, 255],\n",
       "       [255, 255, 255, 255, 255, 255, 255, 255, 255, 255, 255],\n",
       "       [255, 255, 255,   0, 255, 255,   0,   0,   0, 255, 255],\n",
       "       [255, 255, 255,   0, 255, 255,   0, 255, 255,   0, 255],\n",
       "       [255, 255, 255,   0, 255, 255,   0, 255, 255, 255, 255],\n",
       "       [255, 255, 255,   0, 255, 255, 255,   0,   0, 255, 255],\n",
       "       [255, 255,   0,   0,   0, 255, 255, 255, 255,   0, 255],\n",
       "       [255, 255, 255, 255, 255, 255,   0,   0,   0, 255, 255],\n",
       "       [255, 255, 255, 255, 255, 255, 255, 255, 255, 255, 255]],\n",
       "      dtype=uint8)"
      ]
     },
     "execution_count": 86,
     "metadata": {},
     "output_type": "execute_result"
    }
   ],
   "source": [
    "x"
   ]
  },
  {
   "cell_type": "code",
   "execution_count": 87,
   "id": "b411b8a3",
   "metadata": {},
   "outputs": [],
   "source": [
    "scores = []\n",
    "\n",
    "result = cv2.matchTemplate\n",
    "\n",
    "result = cv2.matchTemplate(roi, digitROI,cv2.TM_CCOEFF)\n",
    "\n",
    "# for (digit, digitROI) in digits.items():\n",
    "# \t\t\t# apply correlation-based template matching, take the\n",
    "# \t\t\t# score, and update the scores list\n",
    "# \t\t\tresult = cv2.matchTemplate(roi, digitROI,\n",
    "# \t\t\t\tcv2.TM_CCOEFF)\n",
    "# \t\t\t(_, score, _, _) = cv2.minMaxLoc(result)\n",
    "# \t\t\tscores.append(score)\n",
    "#         # the classification for the digit ROI will be the reference\n",
    "# \t\t# digit name with the *largest* template matching score\n",
    "# \t\tgroupOutput.append(str(np.argmax(scores)))"
   ]
  },
  {
   "cell_type": "code",
   "execution_count": null,
   "id": "34b759d3",
   "metadata": {},
   "outputs": [],
   "source": [
    "for c in digitCnts:\n",
    "\t\t# compute the bounding box of the individual digit, extract\n",
    "\t\t# the digit, and resize it to have the same fixed size as\n",
    "\t\t# the reference OCR-A images\n",
    "\t\troi = cv2.resize(roi, (57, 88))\n",
    "\t\t# initialize a list of template matching scores\t\n",
    "\t\tscores = []\n",
    "\t\t# loop over the reference digit name and digit ROI\n",
    "\t\tfor (digit, digitROI) in digits.items():\n",
    "\t\t\t# apply correlation-based template matching, take the\n",
    "\t\t\t# score, and update the scores list\n",
    "\t\t\tresult = cv2.matchTemplate(roi, digitROI,\n",
    "\t\t\t\tcv2.TM_CCOEFF)\n",
    "\t\t\t(_, score, _, _) = cv2.minMaxLoc(result)\n",
    "\t\t\tscores.append(score)\n",
    "        # the classification for the digit ROI will be the reference\n",
    "\t\t# digit name with the *largest* template matching score\n",
    "\t\tgroupOutput.append(str(np.argmax(scores)))"
   ]
  }
 ],
 "metadata": {
  "kernelspec": {
   "display_name": "Python 3",
   "language": "python",
   "name": "python3"
  },
  "language_info": {
   "codemirror_mode": {
    "name": "ipython",
    "version": 3
   },
   "file_extension": ".py",
   "mimetype": "text/x-python",
   "name": "python",
   "nbconvert_exporter": "python",
   "pygments_lexer": "ipython3",
   "version": "3.7.10"
  }
 },
 "nbformat": 4,
 "nbformat_minor": 5
}
