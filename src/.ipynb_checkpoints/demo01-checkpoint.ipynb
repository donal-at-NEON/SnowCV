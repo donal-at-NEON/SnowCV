{
 "cells": [
  {
   "cell_type": "markdown",
   "id": "16dc6f85",
   "metadata": {},
   "source": [
    "SnowCV method to quantify snow height from phenocam staff gauge imagery.\n",
    "For NEON Battelle\n",
    "Donal O'Leary\n",
    "April 12 2021\n",
    "\n",
    "Borrowing liberally from <a href=\"https://www.pyimagesearch.com/2017/07/17/credit-card-ocr-with-opencv-and-python/\" target=\"_blank\">this awesome tutorial by Adrian Rosebrock</a>."
   ]
  },
  {
   "cell_type": "code",
   "execution_count": 1,
   "id": "a1d831be",
   "metadata": {},
   "outputs": [],
   "source": [
    "import cv2\n",
    "import imutils\n",
    "from imutils import contours\n",
    "import argparse\n",
    "import matplotlib.pyplot as plt\n",
    "import numpy as np\n",
    "%matplotlib inline"
   ]
  },
  {
   "cell_type": "code",
   "execution_count": 2,
   "id": "ad991bd4",
   "metadata": {},
   "outputs": [],
   "source": [
    "# # construct the argument parser and parse the arguments\n",
    "# ap = argparse.ArgumentParser()\n",
    "# ap.add_argument(\"-i\", \"--image\", required=True,\n",
    "# \thelp=\"path to input image\")\n",
    "# ap.add_argument(\"-r\", \"--reference\", required=True,\n",
    "# \thelp=\"path to reference OCR-A image\")\n",
    "# args = vars(ap.parse_args())"
   ]
  },
  {
   "cell_type": "code",
   "execution_count": 3,
   "id": "00b47315",
   "metadata": {},
   "outputs": [
    {
     "data": {
      "text/plain": [
       "<matplotlib.image.AxesImage at 0x7fecd8297410>"
      ]
     },
     "execution_count": 3,
     "metadata": {},
     "output_type": "execute_result"
    },
    {
     "data": {
      "image/png": "[encoded data removed]",
      "text/plain": [
       "<Figure size 432x288 with 1 Axes>"
      ]
     },
     "metadata": {
      "needs_background": "light"
     },
     "output_type": "display_data"
    }
   ],
   "source": [
    "template = cv2.imread('/Users/olearyd/Git/SnowCV/data/number_template.png')\n",
    "template = cv2.cvtColor(template, cv2.COLOR_BGR2GRAY)\n",
    "#template = cv2.threshold(template, 30, 255, cv2.THRESH_BINARY)[1]\n",
    "\n",
    "template = cv2.resize(template, (200,20))\n",
    "template_Canny = cv2.Canny(template , 10, 255)\n",
    "\n",
    "template.shape\n",
    "plt.imshow(template_Canny, cmap='gray')"
   ]
  },
  {
   "cell_type": "code",
   "execution_count": 4,
   "id": "d184b472",
   "metadata": {},
   "outputs": [
    {
     "data": {
      "text/plain": [
       "(array([[[ 6,  0]],\n",
       " \n",
       "        [[ 5,  1]],\n",
       " \n",
       "        [[ 4,  1]],\n",
       " \n",
       "        [[ 4,  5]],\n",
       " \n",
       "        [[ 3,  6]],\n",
       " \n",
       "        [[ 3,  7]],\n",
       " \n",
       "        [[ 4,  8]],\n",
       " \n",
       "        [[ 4, 10]],\n",
       " \n",
       "        [[ 3, 11]],\n",
       " \n",
       "        [[ 4, 12]],\n",
       " \n",
       "        [[ 4, 15]],\n",
       " \n",
       "        [[ 5, 16]],\n",
       " \n",
       "        [[ 6, 16]],\n",
       " \n",
       "        [[ 7, 17]],\n",
       " \n",
       "        [[ 8, 16]],\n",
       " \n",
       "        [[ 9, 17]],\n",
       " \n",
       "        [[10, 16]],\n",
       " \n",
       "        [[11, 17]],\n",
       " \n",
       "        [[13, 17]],\n",
       " \n",
       "        [[14, 16]],\n",
       " \n",
       "        [[15, 16]],\n",
       " \n",
       "        [[15,  2]],\n",
       " \n",
       "        [[13,  0]]], dtype=int32),\n",
       " array([[[25,  1]],\n",
       " \n",
       "        [[23,  3]],\n",
       " \n",
       "        [[24,  4]],\n",
       " \n",
       "        [[26,  4]],\n",
       " \n",
       "        [[27,  5]],\n",
       " \n",
       "        [[27,  7]],\n",
       " \n",
       "        [[28,  8]],\n",
       " \n",
       "        [[28,  9]],\n",
       " \n",
       "        [[27, 10]],\n",
       " \n",
       "        [[27, 11]],\n",
       " \n",
       "        [[28, 12]],\n",
       " \n",
       "        [[28, 14]],\n",
       " \n",
       "        [[27, 15]],\n",
       " \n",
       "        [[25, 15]],\n",
       " \n",
       "        [[24, 16]],\n",
       " \n",
       "        [[24, 18]],\n",
       " \n",
       "        [[25, 19]],\n",
       " \n",
       "        [[28, 19]],\n",
       " \n",
       "        [[29, 18]],\n",
       " \n",
       "        [[32, 18]],\n",
       " \n",
       "        [[33, 19]],\n",
       " \n",
       "        [[34, 18]],\n",
       " \n",
       "        [[35, 18]],\n",
       " \n",
       "        [[35, 16]],\n",
       " \n",
       "        [[34, 16]],\n",
       " \n",
       "        [[33, 15]],\n",
       " \n",
       "        [[32, 15]],\n",
       " \n",
       "        [[31, 14]],\n",
       " \n",
       "        [[31,  2]],\n",
       " \n",
       "        [[28,  2]],\n",
       " \n",
       "        [[27,  1]]], dtype=int32),\n",
       " array([[[46,  0]],\n",
       " \n",
       "        [[44,  2]],\n",
       " \n",
       "        [[44,  4]],\n",
       " \n",
       "        [[45,  5]],\n",
       " \n",
       "        [[45,  7]],\n",
       " \n",
       "        [[44,  8]],\n",
       " \n",
       "        [[45,  9]],\n",
       " \n",
       "        [[44, 10]],\n",
       " \n",
       "        [[44, 15]],\n",
       " \n",
       "        [[45, 16]],\n",
       " \n",
       "        [[45, 17]],\n",
       " \n",
       "        [[48, 17]],\n",
       " \n",
       "        [[49, 18]],\n",
       " \n",
       "        [[50, 18]],\n",
       " \n",
       "        [[51, 17]],\n",
       " \n",
       "        [[55, 17]],\n",
       " \n",
       "        [[57, 15]],\n",
       " \n",
       "        [[58, 15]],\n",
       " \n",
       "        [[58, 12]],\n",
       " \n",
       "        [[57, 12]],\n",
       " \n",
       "        [[58, 13]],\n",
       " \n",
       "        [[58, 14]],\n",
       " \n",
       "        [[56, 16]],\n",
       " \n",
       "        [[54, 14]],\n",
       " \n",
       "        [[48, 14]],\n",
       " \n",
       "        [[47, 13]],\n",
       " \n",
       "        [[49, 11]],\n",
       " \n",
       "        [[50, 12]],\n",
       " \n",
       "        [[53, 12]],\n",
       " \n",
       "        [[54, 11]],\n",
       " \n",
       "        [[55, 11]],\n",
       " \n",
       "        [[56, 10]],\n",
       " \n",
       "        [[56,  2]],\n",
       " \n",
       "        [[54,  0]]], dtype=int32),\n",
       " array([[[68,  0]],\n",
       " \n",
       "        [[66,  2]],\n",
       " \n",
       "        [[66,  4]],\n",
       " \n",
       "        [[67,  5]],\n",
       " \n",
       "        [[71,  5]],\n",
       " \n",
       "        [[72,  4]],\n",
       " \n",
       "        [[73,  5]],\n",
       " \n",
       "        [[73,  6]],\n",
       " \n",
       "        [[74,  7]],\n",
       " \n",
       "        [[72,  9]],\n",
       " \n",
       "        [[71,  8]],\n",
       " \n",
       "        [[68,  8]],\n",
       " \n",
       "        [[66, 10]],\n",
       " \n",
       "        [[67, 11]],\n",
       " \n",
       "        [[69, 11]],\n",
       " \n",
       "        [[70, 12]],\n",
       " \n",
       "        [[71, 12]],\n",
       " \n",
       "        [[72, 11]],\n",
       " \n",
       "        [[74, 13]],\n",
       " \n",
       "        [[73, 14]],\n",
       " \n",
       "        [[69, 14]],\n",
       " \n",
       "        [[68, 13]],\n",
       " \n",
       "        [[67, 14]],\n",
       " \n",
       "        [[66, 14]],\n",
       " \n",
       "        [[66, 16]],\n",
       " \n",
       "        [[67, 17]],\n",
       " \n",
       "        [[70, 17]],\n",
       " \n",
       "        [[71, 18]],\n",
       " \n",
       "        [[75, 18]],\n",
       " \n",
       "        [[76, 17]],\n",
       " \n",
       "        [[77, 17]],\n",
       " \n",
       "        [[77, 10]],\n",
       " \n",
       "        [[78,  9]],\n",
       " \n",
       "        [[77,  8]],\n",
       " \n",
       "        [[77,  7]],\n",
       " \n",
       "        [[78,  6]],\n",
       " \n",
       "        [[78,  2]],\n",
       " \n",
       "        [[76,  0]],\n",
       " \n",
       "        [[74,  0]],\n",
       " \n",
       "        [[73,  1]],\n",
       " \n",
       "        [[72,  0]],\n",
       " \n",
       "        [[71,  1]],\n",
       " \n",
       "        [[70,  0]]], dtype=int32),\n",
       " array([[[89,  0]],\n",
       " \n",
       "        [[87,  2]],\n",
       " \n",
       "        [[87,  4]],\n",
       " \n",
       "        [[86,  5]],\n",
       " \n",
       "        [[86, 11]],\n",
       " \n",
       "        [[85, 12]],\n",
       " \n",
       "        [[86, 13]],\n",
       " \n",
       "        [[87, 13]],\n",
       " \n",
       "        [[88, 14]],\n",
       " \n",
       "        [[91, 14]],\n",
       " \n",
       "        [[92, 15]],\n",
       " \n",
       "        [[91, 16]],\n",
       " \n",
       "        [[90, 16]],\n",
       " \n",
       "        [[90, 18]],\n",
       " \n",
       "        [[92, 18]],\n",
       " \n",
       "        [[93, 17]],\n",
       " \n",
       "        [[94, 17]],\n",
       " \n",
       "        [[93, 17]],\n",
       " \n",
       "        [[92, 16]],\n",
       " \n",
       "        [[92, 14]],\n",
       " \n",
       "        [[88, 14]],\n",
       " \n",
       "        [[87, 13]],\n",
       " \n",
       "        [[86, 13]],\n",
       " \n",
       "        [[85, 12]],\n",
       " \n",
       "        [[86, 11]],\n",
       " \n",
       "        [[86,  5]],\n",
       " \n",
       "        [[87,  4]],\n",
       " \n",
       "        [[87,  2]],\n",
       " \n",
       "        [[89,  0]],\n",
       " \n",
       "        [[91,  2]],\n",
       " \n",
       "        [[90,  3]],\n",
       " \n",
       "        [[90,  5]],\n",
       " \n",
       "        [[89,  6]],\n",
       " \n",
       "        [[89, 10]],\n",
       " \n",
       "        [[90, 11]],\n",
       " \n",
       "        [[91, 10]],\n",
       " \n",
       "        [[92, 10]],\n",
       " \n",
       "        [[92,  7]],\n",
       " \n",
       "        [[93,  6]],\n",
       " \n",
       "        [[92,  5]],\n",
       " \n",
       "        [[92,  4]],\n",
       " \n",
       "        [[93,  3]],\n",
       " \n",
       "        [[93,  2]],\n",
       " \n",
       "        [[94,  1]],\n",
       " \n",
       "        [[95,  2]],\n",
       " \n",
       "        [[95, 10]],\n",
       " \n",
       "        [[97, 12]],\n",
       " \n",
       "        [[97, 13]],\n",
       " \n",
       "        [[95, 15]],\n",
       " \n",
       "        [[97, 17]],\n",
       " \n",
       "        [[96, 18]],\n",
       " \n",
       "        [[97, 18]],\n",
       " \n",
       "        [[97, 16]],\n",
       " \n",
       "        [[96, 16]],\n",
       " \n",
       "        [[95, 15]],\n",
       " \n",
       "        [[97, 13]],\n",
       " \n",
       "        [[97, 12]],\n",
       " \n",
       "        [[95, 10]],\n",
       " \n",
       "        [[95,  2]],\n",
       " \n",
       "        [[94,  1]],\n",
       " \n",
       "        [[93,  2]],\n",
       " \n",
       "        [[93,  3]],\n",
       " \n",
       "        [[92,  4]],\n",
       " \n",
       "        [[92,  5]],\n",
       " \n",
       "        [[93,  6]],\n",
       " \n",
       "        [[92,  7]],\n",
       " \n",
       "        [[91,  7]],\n",
       " \n",
       "        [[92,  8]],\n",
       " \n",
       "        [[92,  9]],\n",
       " \n",
       "        [[90, 11]],\n",
       " \n",
       "        [[89, 10]],\n",
       " \n",
       "        [[89,  6]],\n",
       " \n",
       "        [[90,  5]],\n",
       " \n",
       "        [[90,  3]],\n",
       " \n",
       "        [[91,  2]]], dtype=int32),\n",
       " array([[[110,   0]],\n",
       " \n",
       "        [[108,   2]],\n",
       " \n",
       "        [[108,   5]],\n",
       " \n",
       "        [[109,   6]],\n",
       " \n",
       "        [[108,   7]],\n",
       " \n",
       "        [[108,  10]],\n",
       " \n",
       "        [[109,  11]],\n",
       " \n",
       "        [[109,  13]],\n",
       " \n",
       "        [[108,  14]],\n",
       " \n",
       "        [[108,  16]],\n",
       " \n",
       "        [[109,  17]],\n",
       " \n",
       "        [[112,  17]],\n",
       " \n",
       "        [[113,  18]],\n",
       " \n",
       "        [[114,  18]],\n",
       " \n",
       "        [[115,  17]],\n",
       " \n",
       "        [[116,  18]],\n",
       " \n",
       "        [[117,  18]],\n",
       " \n",
       "        [[118,  17]],\n",
       " \n",
       "        [[119,  17]],\n",
       " \n",
       "        [[120,  16]],\n",
       " \n",
       "        [[119,  15]],\n",
       " \n",
       "        [[119,  12]],\n",
       " \n",
       "        [[120,  11]],\n",
       " \n",
       "        [[120,  10]],\n",
       " \n",
       "        [[118,   8]],\n",
       " \n",
       "        [[116,   8]],\n",
       " \n",
       "        [[115,   7]],\n",
       " \n",
       "        [[114,   8]],\n",
       " \n",
       "        [[112,   8]],\n",
       " \n",
       "        [[111,   7]],\n",
       " \n",
       "        [[111,   6]],\n",
       " \n",
       "        [[112,   5]],\n",
       " \n",
       "        [[116,   5]],\n",
       " \n",
       "        [[117,   4]],\n",
       " \n",
       "        [[119,   4]],\n",
       " \n",
       "        [[119,   1]],\n",
       " \n",
       "        [[118,   0]]], dtype=int32),\n",
       " array([[[126,   1]],\n",
       " \n",
       "        [[126,   2]],\n",
       " \n",
       "        [[125,   3]],\n",
       " \n",
       "        [[125,  15]],\n",
       " \n",
       "        [[126,  16]],\n",
       " \n",
       "        [[126,  17]],\n",
       " \n",
       "        [[136,  17]],\n",
       " \n",
       "        [[136,  16]],\n",
       " \n",
       "        [[137,  15]],\n",
       " \n",
       "        [[137,  10]],\n",
       " \n",
       "        [[136,   9]],\n",
       " \n",
       "        [[136,   1]]], dtype=int32),\n",
       " array([[[147,   1]],\n",
       " \n",
       "        [[145,   3]],\n",
       " \n",
       "        [[146,   4]],\n",
       " \n",
       "        [[145,   5]],\n",
       " \n",
       "        [[146,   6]],\n",
       " \n",
       "        [[146,   7]],\n",
       " \n",
       "        [[148,   7]],\n",
       " \n",
       "        [[150,   5]],\n",
       " \n",
       "        [[151,   5]],\n",
       " \n",
       "        [[150,   5]],\n",
       " \n",
       "        [[148,   7]],\n",
       " \n",
       "        [[147,   7]],\n",
       " \n",
       "        [[145,   5]],\n",
       " \n",
       "        [[146,   4]],\n",
       " \n",
       "        [[145,   3]],\n",
       " \n",
       "        [[147,   1]],\n",
       " \n",
       "        [[154,   1]],\n",
       " \n",
       "        [[156,   3]],\n",
       " \n",
       "        [[155,   4]],\n",
       " \n",
       "        [[156,   5]],\n",
       " \n",
       "        [[156,   7]],\n",
       " \n",
       "        [[155,   8]],\n",
       " \n",
       "        [[155,   9]],\n",
       " \n",
       "        [[153,  11]],\n",
       " \n",
       "        [[153,  12]],\n",
       " \n",
       "        [[152,  13]],\n",
       " \n",
       "        [[152,  14]],\n",
       " \n",
       "        [[151,  15]],\n",
       " \n",
       "        [[151,  16]],\n",
       " \n",
       "        [[150,  17]],\n",
       " \n",
       "        [[148,  17]],\n",
       " \n",
       "        [[147,  16]],\n",
       " \n",
       "        [[147,  14]],\n",
       " \n",
       "        [[148,  13]],\n",
       " \n",
       "        [[148,  12]],\n",
       " \n",
       "        [[149,  11]],\n",
       " \n",
       "        [[149,  10]],\n",
       " \n",
       "        [[150,   9]],\n",
       " \n",
       "        [[150,   8]],\n",
       " \n",
       "        [[151,   7]],\n",
       " \n",
       "        [[150,   8]],\n",
       " \n",
       "        [[150,   9]],\n",
       " \n",
       "        [[149,  10]],\n",
       " \n",
       "        [[149,  11]],\n",
       " \n",
       "        [[147,  13]],\n",
       " \n",
       "        [[147,  16]],\n",
       " \n",
       "        [[148,  17]],\n",
       " \n",
       "        [[151,  17]],\n",
       " \n",
       "        [[151,  15]],\n",
       " \n",
       "        [[153,  13]],\n",
       " \n",
       "        [[153,  12]],\n",
       " \n",
       "        [[154,  11]],\n",
       " \n",
       "        [[154,  10]],\n",
       " \n",
       "        [[155,   9]],\n",
       " \n",
       "        [[155,   8]],\n",
       " \n",
       "        [[156,   7]],\n",
       " \n",
       "        [[156,   5]],\n",
       " \n",
       "        [[155,   4]],\n",
       " \n",
       "        [[156,   3]],\n",
       " \n",
       "        [[154,   1]]], dtype=int32),\n",
       " array([[[167,   0]],\n",
       " \n",
       "        [[165,   2]],\n",
       " \n",
       "        [[166,   3]],\n",
       " \n",
       "        [[165,   4]],\n",
       " \n",
       "        [[165,   6]],\n",
       " \n",
       "        [[166,   7]],\n",
       " \n",
       "        [[166,   8]],\n",
       " \n",
       "        [[165,   9]],\n",
       " \n",
       "        [[165,  15]],\n",
       " \n",
       "        [[166,  16]],\n",
       " \n",
       "        [[166,  17]],\n",
       " \n",
       "        [[170,  17]],\n",
       " \n",
       "        [[171,  18]],\n",
       " \n",
       "        [[173,  18]],\n",
       " \n",
       "        [[174,  17]],\n",
       " \n",
       "        [[176,  17]],\n",
       " \n",
       "        [[176,   8]],\n",
       " \n",
       "        [[177,   7]],\n",
       " \n",
       "        [[176,   6]],\n",
       " \n",
       "        [[177,   5]],\n",
       " \n",
       "        [[176,   4]],\n",
       " \n",
       "        [[177,   3]],\n",
       " \n",
       "        [[176,   2]],\n",
       " \n",
       "        [[176,   1]],\n",
       " \n",
       "        [[175,   0]]], dtype=int32),\n",
       " array([[[188,   0]],\n",
       " \n",
       "        [[186,   2]],\n",
       " \n",
       "        [[187,   3]],\n",
       " \n",
       "        [[187,   5]],\n",
       " \n",
       "        [[186,   6]],\n",
       " \n",
       "        [[187,   7]],\n",
       " \n",
       "        [[187,  17]],\n",
       " \n",
       "        [[188,  17]],\n",
       " \n",
       "        [[189,  18]],\n",
       " \n",
       "        [[191,  18]],\n",
       " \n",
       "        [[192,  17]],\n",
       " \n",
       "        [[195,  17]],\n",
       " \n",
       "        [[196,  18]],\n",
       " \n",
       "        [[198,  16]],\n",
       " \n",
       "        [[197,  15]],\n",
       " \n",
       "        [[197,   9]],\n",
       " \n",
       "        [[198,   8]],\n",
       " \n",
       "        [[198,   7]],\n",
       " \n",
       "        [[197,   6]],\n",
       " \n",
       "        [[197,   4]],\n",
       " \n",
       "        [[198,   3]],\n",
       " \n",
       "        [[197,   2]],\n",
       " \n",
       "        [[197,   1]],\n",
       " \n",
       "        [[194,   1]],\n",
       " \n",
       "        [[193,   0]],\n",
       " \n",
       "        [[190,   0]],\n",
       " \n",
       "        [[189,   1]]], dtype=int32))"
      ]
     },
     "execution_count": 4,
     "metadata": {},
     "output_type": "execute_result"
    }
   ],
   "source": [
    "templateCnts = cv2.findContours(template_Canny.copy(), cv2.RETR_EXTERNAL, cv2.CHAIN_APPROX_SIMPLE)\n",
    "templateCnts = imutils.grab_contours(templateCnts)\n",
    "templateCnts = contours.sort_contours(templateCnts, method=\"left-to-right\")[0]\n",
    "\n",
    "templateCnts\n"
   ]
  },
  {
   "cell_type": "code",
   "execution_count": 5,
   "id": "f9f30c3d",
   "metadata": {},
   "outputs": [],
   "source": [
    "digits = {}\n",
    "\n",
    "for (i, c) in enumerate(templateCnts):\n",
    "\t# compute the bounding box for the digit, extract it, and resize\n",
    "\t# it to a fixed size\n",
    "\t(x, y, w, h) = cv2.boundingRect(c)\n",
    "\troi = template[y:y + h, x:x + w]\n",
    "\troi = cv2.resize(roi, (57, 88))\n",
    "\t# update the digits dictionary, mapping the digit name to the ROI\n",
    "\tdigits[i] = roi"
   ]
  },
  {
   "cell_type": "code",
   "execution_count": 6,
   "id": "aee7da9c",
   "metadata": {},
   "outputs": [
    {
     "data": {
      "text/plain": [
       "<matplotlib.image.AxesImage at 0x7fecd83e9cd0>"
      ]
     },
     "execution_count": 6,
     "metadata": {},
     "output_type": "execute_result"
    },
    {
     "data": {
      "image/png": "[encoded data removed]",
      "text/plain": [
       "<Figure size 432x288 with 1 Axes>"
      ]
     },
     "metadata": {
      "needs_background": "light"
     },
     "output_type": "display_data"
    }
   ],
   "source": [
    "plt.imshow(digits[3], cmap='gray')"
   ]
  },
  {
   "cell_type": "code",
   "execution_count": 7,
   "id": "7d06caef",
   "metadata": {},
   "outputs": [
    {
     "data": {
      "text/plain": [
       "(88, 57)"
      ]
     },
     "execution_count": 7,
     "metadata": {},
     "output_type": "execute_result"
    }
   ],
   "source": [
    "digits[3].shape"
   ]
  },
  {
   "cell_type": "code",
   "execution_count": 8,
   "id": "cee4afe1",
   "metadata": {},
   "outputs": [
    {
     "data": {
      "text/plain": [
       "array([[255, 255, 255, ..., 255, 255, 255],\n",
       "       [255, 255, 255, ..., 255, 255, 255],\n",
       "       [255, 255, 255, ..., 255, 255, 255],\n",
       "       ...,\n",
       "       [255, 255, 255, ..., 255, 255, 255],\n",
       "       [255, 255, 255, ..., 255, 255, 255],\n",
       "       [255, 255, 255, ..., 255, 255, 255]], dtype=uint8)"
      ]
     },
     "execution_count": 8,
     "metadata": {},
     "output_type": "execute_result"
    }
   ],
   "source": [
    "ref = cv2.imread('/Users/olearyd/Git/SnowCV/data/NEON.D13.NIWO.DP1.00042_2020_01_10_101505.jpg')\n",
    "ref = cv2.cvtColor(ref, cv2.COLOR_BGR2GRAY)\n",
    "ref = cv2.threshold(ref, 30, 255, cv2.THRESH_BINARY)[1]\n",
    "ref"
   ]
  },
  {
   "cell_type": "code",
   "execution_count": 9,
   "id": "b853b7f1",
   "metadata": {},
   "outputs": [
    {
     "data": {
      "text/plain": [
       "(960, 1296)"
      ]
     },
     "execution_count": 9,
     "metadata": {},
     "output_type": "execute_result"
    }
   ],
   "source": [
    "ref.shape"
   ]
  },
  {
   "cell_type": "code",
   "execution_count": 10,
   "id": "41f389ac",
   "metadata": {},
   "outputs": [],
   "source": [
    "ROI = ref[600:850,870:920]"
   ]
  },
  {
   "cell_type": "code",
   "execution_count": 11,
   "id": "3116aebc",
   "metadata": {},
   "outputs": [
    {
     "data": {
      "text/plain": [
       "<matplotlib.image.AxesImage at 0x7fecd8c5af90>"
      ]
     },
     "execution_count": 11,
     "metadata": {},
     "output_type": "execute_result"
    },
    {
     "data": {
      "image/png": "[encoded data removed]",
      "text/plain": [
       "<Figure size 360x1080 with 1 Axes>"
      ]
     },
     "metadata": {
      "needs_background": "light"
     },
     "output_type": "display_data"
    }
   ],
   "source": [
    "plt.rcParams['figure.figsize'] = [5, 15]\n",
    "plt.imshow(ROI,cmap='gray')"
   ]
  },
  {
   "cell_type": "code",
   "execution_count": 12,
   "id": "9cca1779",
   "metadata": {},
   "outputs": [],
   "source": [
    "# ## Plot image in external window\n",
    "# cv2.imshow('image',ref)\n",
    "# cv2.waitKey(0)\n",
    "# cv2.destroyAllWindows()\n",
    "# cv2.waitKey(1)"
   ]
  },
  {
   "cell_type": "code",
   "execution_count": 13,
   "id": "40318e2b",
   "metadata": {},
   "outputs": [],
   "source": [
    "fifteen = ROI[192:200,8:19]\n",
    "num_pair=fifteen"
   ]
  },
  {
   "cell_type": "code",
   "execution_count": 14,
   "id": "dd60b0ff",
   "metadata": {},
   "outputs": [
    {
     "data": {
      "text/plain": [
       "<matplotlib.image.AxesImage at 0x7fecd8e0ef90>"
      ]
     },
     "execution_count": 14,
     "metadata": {},
     "output_type": "execute_result"
    },
    {
     "data": {
      "image/png": "[encoded data removed]",
      "text/plain": [
       "<Figure size 360x1080 with 1 Axes>"
      ]
     },
     "metadata": {
      "needs_background": "light"
     },
     "output_type": "display_data"
    }
   ],
   "source": [
    "plt.imshow(fifteen,cmap='gray')"
   ]
  },
  {
   "cell_type": "code",
   "execution_count": 15,
   "id": "863f105c",
   "metadata": {},
   "outputs": [
    {
     "data": {
      "text/plain": [
       "<matplotlib.image.AxesImage at 0x7fecd43f0790>"
      ]
     },
     "execution_count": 15,
     "metadata": {},
     "output_type": "execute_result"
    },
    {
     "data": {
      "image/png": "[encoded data removed]",
      "text/plain": [
       "<Figure size 360x1080 with 1 Axes>"
      ]
     },
     "metadata": {
      "needs_background": "light"
     },
     "output_type": "display_data"
    }
   ],
   "source": [
    "fifteen_big = cv2.resize(fifteen, (130,88))\n",
    "plt.imshow(fifteen_big, cmap='gray')"
   ]
  },
  {
   "cell_type": "code",
   "execution_count": 16,
   "id": "1f50282a",
   "metadata": {},
   "outputs": [
    {
     "data": {
      "text/plain": [
       "<matplotlib.image.AxesImage at 0x7fecd86818d0>"
      ]
     },
     "execution_count": 16,
     "metadata": {},
     "output_type": "execute_result"
    },
    {
     "data": {
      "image/png": "[encoded data removed]",
      "text/plain": [
       "<Figure size 360x1080 with 1 Axes>"
      ]
     },
     "metadata": {
      "needs_background": "light"
     },
     "output_type": "display_data"
    }
   ],
   "source": [
    "#kernel = np.array([[-1,-1,-1], [-1,9,-1], [-1,-1,-1]])\n",
    "fifteen_big = cv2.blur(fifteen_big, (11,11))\n",
    "plt.imshow(fifteen_big)"
   ]
  },
  {
   "cell_type": "code",
   "execution_count": 17,
   "id": "1690c666",
   "metadata": {},
   "outputs": [],
   "source": [
    "# fifteen = cv2.resize(fifteen_big, (11,8))\n",
    "# plt.imshow(fifteen)"
   ]
  },
  {
   "cell_type": "code",
   "execution_count": 18,
   "id": "0328d222",
   "metadata": {},
   "outputs": [
    {
     "data": {
      "text/plain": [
       "array([[0, 0, 0, ..., 0, 0, 0],\n",
       "       [0, 0, 0, ..., 0, 0, 0],\n",
       "       [0, 0, 0, ..., 0, 0, 0],\n",
       "       ...,\n",
       "       [0, 0, 0, ..., 0, 0, 0],\n",
       "       [0, 0, 0, ..., 0, 0, 0],\n",
       "       [0, 0, 0, ..., 0, 0, 0]], dtype=uint8)"
      ]
     },
     "execution_count": 18,
     "metadata": {},
     "output_type": "execute_result"
    },
    {
     "data": {
      "image/png": "[encoded data removed]",
      "text/plain": [
       "<Figure size 360x1080 with 1 Axes>"
      ]
     },
     "metadata": {
      "needs_background": "light"
     },
     "output_type": "display_data"
    }
   ],
   "source": [
    "fifteen_big_Canny = cv2.Canny(fifteen_big, 10, 150)\n",
    "plt.imshow(fifteen_big_Canny, cmap='gray')\n",
    "fifteen_big_Canny"
   ]
  },
  {
   "cell_type": "code",
   "execution_count": 19,
   "id": "a3e45d96",
   "metadata": {},
   "outputs": [],
   "source": [
    "kernel = np.ones((5,5),np.uint8)"
   ]
  },
  {
   "cell_type": "code",
   "execution_count": 20,
   "id": "0c80e1a1",
   "metadata": {},
   "outputs": [
    {
     "data": {
      "text/plain": [
       "<matplotlib.image.AxesImage at 0x7fecd843f890>"
      ]
     },
     "execution_count": 20,
     "metadata": {},
     "output_type": "execute_result"
    },
    {
     "data": {
      "image/png": "[encoded data removed]",
      "text/plain": [
       "<Figure size 360x1080 with 1 Axes>"
      ]
     },
     "metadata": {
      "needs_background": "light"
     },
     "output_type": "display_data"
    }
   ],
   "source": [
    "f_d = cv2.dilate(fifteen_big_Canny, kernel,iterations = 1)\n",
    "plt.imshow(f_d)"
   ]
  },
  {
   "cell_type": "code",
   "execution_count": 21,
   "id": "faf58b2b",
   "metadata": {},
   "outputs": [],
   "source": [
    "## Get the contours of the individual numbers to then clip out each digit\n",
    "\n",
    "num_pairCnts = cv2.findContours(f_d.copy(), cv2.RETR_EXTERNAL, cv2.CHAIN_APPROX_SIMPLE)\n",
    "num_pairCnts = imutils.grab_contours(num_pairCnts)\n",
    "num_pairCnts = contours.sort_contours(num_pairCnts, method=\"left-to-right\")[0]\n",
    "\n"
   ]
  },
  {
   "cell_type": "code",
   "execution_count": 22,
   "id": "8f9e30a0",
   "metadata": {},
   "outputs": [
    {
     "data": {
      "text/plain": [
       "2"
      ]
     },
     "execution_count": 22,
     "metadata": {},
     "output_type": "execute_result"
    }
   ],
   "source": [
    "len(num_pairCnts)"
   ]
  },
  {
   "cell_type": "code",
   "execution_count": 23,
   "id": "22a024c9",
   "metadata": {},
   "outputs": [],
   "source": [
    "numbers = {}\n",
    "\n",
    "for (i, c) in enumerate(num_pairCnts):\n",
    "\t# compute the bounding box for the digit, extract it, and resize\n",
    "\t# it to a fixed size\n",
    "\t(x, y, w, h) = cv2.boundingRect(c)\n",
    "\troi = fifteen_big[y:y + h, x:x + w]\n",
    "\troi = cv2.resize(roi, (57, 88))\n",
    "\t# update the digits dictionary, mapping the digit name to the ROI\n",
    "\tnumbers[i] = roi"
   ]
  },
  {
   "cell_type": "code",
   "execution_count": 24,
   "id": "a76387f1",
   "metadata": {},
   "outputs": [
    {
     "data": {
      "text/plain": [
       "<matplotlib.image.AxesImage at 0x7fecd8604210>"
      ]
     },
     "execution_count": 24,
     "metadata": {},
     "output_type": "execute_result"
    },
    {
     "data": {
      "image/png": "[encoded data removed]",
      "text/plain": [
       "<Figure size 360x1080 with 1 Axes>"
      ]
     },
     "metadata": {
      "needs_background": "light"
     },
     "output_type": "display_data"
    }
   ],
   "source": [
    "plt.imshow(numbers[1])"
   ]
  },
  {
   "cell_type": "code",
   "execution_count": 25,
   "id": "fc004548",
   "metadata": {},
   "outputs": [
    {
     "name": "stdout",
     "output_type": "stream",
     "text": [
      "1\n",
      "5\n"
     ]
    }
   ],
   "source": [
    "\n",
    "\n",
    "for i in range(len(numbers)):\n",
    "#    print(i)\n",
    "    scores=[]\n",
    "    for j in range(len(digits)):\n",
    "#        print(j)\n",
    "        result = cv2.matchTemplate(numbers[i], digits[j], cv2.TM_CCOEFF)\n",
    "        (_, score, _, _) = cv2.minMaxLoc(result)\n",
    "        scores.append(score)\n",
    "    print(str(np.argmax(scores)))\n",
    "        \n",
    "#str(np.argmax(scores))"
   ]
  }
 ],
 "metadata": {
  "kernelspec": {
   "display_name": "Python 3",
   "language": "python",
   "name": "python3"
  },
  "language_info": {
   "codemirror_mode": {
    "name": "ipython",
    "version": 3
   },
   "file_extension": ".py",
   "mimetype": "text/x-python",
   "name": "python",
   "nbconvert_exporter": "python",
   "pygments_lexer": "ipython3",
   "version": "3.7.10"
  }
 },
 "nbformat": 4,
 "nbformat_minor": 5
}
